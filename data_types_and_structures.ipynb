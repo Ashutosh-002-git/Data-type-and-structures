{
  "nbformat": 4,
  "nbformat_minor": 0,
  "metadata": {
    "colab": {
      "provenance": []
    },
    "kernelspec": {
      "name": "python3",
      "display_name": "Python 3"
    },
    "language_info": {
      "name": "python"
    }
  },
  "cells": [
    {
      "cell_type": "markdown",
      "source": [
        "#Data types and structure\n"
      ],
      "metadata": {
        "id": "rmqNKFlZ3Mu1"
      }
    },
    {
      "cell_type": "markdown",
      "source": [
        "1. What are data structures, and why are they important?  \n",
        "  - Data structre is a way of storing or organising the data so that it can be accessed and manipulated efficiently according to our need.  \n",
        "        Data structures are important because they organize data efficiently, enabling faster access and modification.\n",
        "They are essential for writing optimized, scalable, and effective algorithms and software.  \n",
        "  \n",
        "2.  Explain the difference between mutable and immutable data types with examples?  \n",
        "  - Mutable: Mutable data structures are those Data sturcture which could be changed upon creation means we can add or remove elemnts even after creation of the Data structure. Examples are List,Dictionary.  \n",
        "  - Immutable: Immutable Data structure are those structure which cannot be change after the creation of the Data structure means we can add or remove elements upon the creation of the Data structure. Examples are Tuples,String.  \n",
        "\n",
        "3. What are the main differences between lists and tuples in Python?  \n",
        "  - Main differnces between lists and tuples are as following  \n",
        "    a.) Lists are mutable while tuples are immutable.  \n",
        "    b.) Lists are declared by [],while tuples are declared by ().\n",
        "    c.) Performance wise lists are slower than the tuples.  \n",
        "      \n",
        "4. Describe how dictionaries store data.  \n",
        "  - Dictionaries stores data in the key value format where keys are immutable and unique.Whereas values could be changed according to users need.  \n",
        "\n",
        "5. Why might you use a set instead of a list in Python?  \n",
        "  - We can use a Set instead of list in such a case where we have to tackle or avoid the duplicate entries of the element as set stores unique items and the duplication of element is not permitted in sets.  \n",
        "\n",
        "6. What is a string in Python, and how is it different from a list?  \n",
        "  - A string is a sequence of charcater enclosed in quotes. It is a type of data structure used in python.   \n",
        "      A string is immutable while list is mutable and in string only characters are stored while in list element can be of any data type.  \n",
        "\n",
        "7. How do tuples ensure data integrity in Python?  \n",
        "  - Tuples ensure data integrity by being immutable , which makes its data to remain unchanged even after the creation.  \n",
        "\n",
        "8. What is a hash table, and how does it relate to dictionaries in Python?  \n",
        "  - A hash table is a data structure in which stores data in a array like format where a hash function decides the index which value is stored.  \n",
        "      Though Dictionary also store data in key value format the hash table perform a key role in the storing of key and values. In which keys must be hashable means immutable and have a stable has value.  \n",
        "\n",
        "9. Can lists contain different data types in Python?         \n",
        "  - Yes, lists can store different data types at once.  \n",
        "    \n",
        "10. Explain why strings are immutable in Python?  \n",
        "  - Strings are immutable in python to ensure memory use,data integrity,prevent accidental change and enable hashing.  \n",
        "\n",
        "11. What advantages do dictionaries offer over lists for certain tasks?  \n",
        "  - Dictionaries offer faster lookups (O(1)), key-based access, and better organization for paired data, making them ideal for tasks involving labeled or mapped information over lists.  \n",
        "\n",
        "12. Describe a scenario where using a tuple would be preferable over a list?  \n",
        "  - For example based on scenario we can prefer tuple over list when we have to store the coordinates of some place because coordinates never changes and tuple is ideal for them as a data structure because tuples are immutable.  \n",
        "\n",
        "13. How do sets handle duplicate values in Python?  \n",
        "  - Sets remove duplicate values as it only stores unique elemnets.  \n",
        "\n",
        "14. How does the “in” keyword work differently for lists and dictionaries?  \n",
        "  - In list \"in\" keyword  used to check if value is present in the list or not while in dictionaries \"in\" keyword checks for the key instead of value.  \n",
        "\n",
        "15. Can you modify the elements of a tuple? Explain why or why not.  \n",
        "  - No, we can't modify the elemnt of a tuple because they are immutable, we can't change the element upon creation.  \n",
        "\n",
        "16. What is a nested dictionary, and give an example of its use case?  \n",
        "  -  Nested dictionaries allow you to organize complex, multi-level data in a readable and accessible way.  \n",
        "        Nested dictionary is useful for organizing and accessing multi-dimensional or hierarchical data before converting it to a more structured format like a DataFrame.  \n",
        "          \n",
        "17.  Describe the time complexity of accessing elements in a dictionary?  \n",
        "  - The time complexity of accessing elements in a dictionary in Python is on average.  \n",
        "      Accessing a value using key is very fast due to underlying hash table implementation.  \n",
        "\n",
        "18.  In what situations are lists preferred over dictionaries?  \n",
        "  - Lists are preferred when data is ordered, indexed, or doesn't need key-value pairing.\n",
        "They are more memory-efficient and ideal for simple, sequential collections.   \n",
        "\n",
        "19. Why are dictionaries considered unordered, and how does that affect data retrieval?  \n",
        "  - Dictionaries are considered unordered as they don't follow indexing or doesn't preserve the insertion order of keys.  \n",
        "\n",
        "20.  Explain the difference between a list and a dictionary in terms of data retrieval?  \n",
        "  - List retrieves data using indexes so that user can access elements by order.  \n",
        "  ex:- list[2]  \n",
        "   Dictionary retrieves data using key allowing fast access because of key values pair.                   \n",
        "\n",
        "\n",
        "\n",
        "\n",
        "\n",
        "\n",
        "           \n",
        "    \n",
        "    \n",
        "              "
      ],
      "metadata": {
        "id": "r4copCcb3W9H"
      }
    },
    {
      "cell_type": "code",
      "source": [
        "# 1. Write a code to create a string with your name and print it\n",
        "name=\"Ashutosh Bharadwaj\"\n",
        "print(name)"
      ],
      "metadata": {
        "id": "-xIw7yHPWkRM",
        "colab": {
          "base_uri": "https://localhost:8080/"
        },
        "outputId": "cc64ed46-8974-4c52-c734-071b79b65b4c"
      },
      "execution_count": null,
      "outputs": [
        {
          "output_type": "stream",
          "name": "stdout",
          "text": [
            "Ashutosh Bharadwaj\n"
          ]
        }
      ]
    },
    {
      "cell_type": "code",
      "source": [
        "# 2. Write a code to find the length of the string \"Hello World\"\n",
        "str1=\"Hello World\"\n",
        "print(len(str1))"
      ],
      "metadata": {
        "colab": {
          "base_uri": "https://localhost:8080/"
        },
        "id": "X9Q-oDLsmDzV",
        "outputId": "61ebcdfb-ec75-4e45-cff2-a43f9c600647"
      },
      "execution_count": null,
      "outputs": [
        {
          "output_type": "stream",
          "name": "stdout",
          "text": [
            "11\n"
          ]
        }
      ]
    },
    {
      "cell_type": "code",
      "source": [
        "# 3. Write a code to slice the first 3 characters from the string \"Python Programming\"\n",
        "str2=\"Python Programming\"\n",
        "str2[0:3]\n"
      ],
      "metadata": {
        "colab": {
          "base_uri": "https://localhost:8080/",
          "height": 35
        },
        "id": "4WAucPOrmSG1",
        "outputId": "e74cc28b-dcdd-493b-a9e6-ddcef7811a83"
      },
      "execution_count": null,
      "outputs": [
        {
          "output_type": "execute_result",
          "data": {
            "text/plain": [
              "'Pyt'"
            ],
            "application/vnd.google.colaboratory.intrinsic+json": {
              "type": "string"
            }
          },
          "metadata": {},
          "execution_count": 4
        }
      ]
    },
    {
      "cell_type": "code",
      "source": [
        "# 4. Write a code to convert the string \"hello\" to uppercase\n",
        "str3=\"hello\"\n",
        "str3.upper()"
      ],
      "metadata": {
        "colab": {
          "base_uri": "https://localhost:8080/",
          "height": 35
        },
        "id": "M0Yage7imqcI",
        "outputId": "5d403104-dbdf-4c8e-cb89-e78a3eb9c115"
      },
      "execution_count": null,
      "outputs": [
        {
          "output_type": "execute_result",
          "data": {
            "text/plain": [
              "'HELLO'"
            ],
            "application/vnd.google.colaboratory.intrinsic+json": {
              "type": "string"
            }
          },
          "metadata": {},
          "execution_count": 6
        }
      ]
    },
    {
      "cell_type": "code",
      "source": [
        "# 5. Write a code to replace the word \"apple\" with \"orange\" in the string \"I like apple\"\n",
        "str4=\"I like apple\"\n",
        "str4.replace(\"apple\", \"orange\")"
      ],
      "metadata": {
        "id": "WkUt7oBHm5Dg",
        "colab": {
          "base_uri": "https://localhost:8080/",
          "height": 35
        },
        "outputId": "f5d7d21a-a85e-4881-a5d4-851e207eb4b4"
      },
      "execution_count": 1,
      "outputs": [
        {
          "output_type": "execute_result",
          "data": {
            "text/plain": [
              "'I like orange'"
            ],
            "application/vnd.google.colaboratory.intrinsic+json": {
              "type": "string"
            }
          },
          "metadata": {},
          "execution_count": 1
        }
      ]
    },
    {
      "cell_type": "code",
      "source": [
        "# 6. Write a code to create a list with numbers 1 to 5 and print it\n",
        "list1=[1,2,3,4,5]\n",
        "print(list1)"
      ],
      "metadata": {
        "colab": {
          "base_uri": "https://localhost:8080/"
        },
        "id": "7CbytVUBvvHW",
        "outputId": "d3d8227a-d7a5-48f8-e0fb-8d1e121f4894"
      },
      "execution_count": 2,
      "outputs": [
        {
          "output_type": "stream",
          "name": "stdout",
          "text": [
            "[1, 2, 3, 4, 5]\n"
          ]
        }
      ]
    },
    {
      "cell_type": "code",
      "source": [
        "# 7. Write a code to append the number 10 to the list [1, 2, 3, 4]\n",
        "list2=[1,2,3,4]\n",
        "list2.append(10)\n",
        "print(list2)"
      ],
      "metadata": {
        "colab": {
          "base_uri": "https://localhost:8080/"
        },
        "id": "6B0dzi-dv-d2",
        "outputId": "7ea8c8aa-c5fd-479f-c049-2bffd1cfb29e"
      },
      "execution_count": 4,
      "outputs": [
        {
          "output_type": "stream",
          "name": "stdout",
          "text": [
            "[1, 2, 3, 4, 10]\n"
          ]
        }
      ]
    },
    {
      "cell_type": "code",
      "source": [
        "# 8. Write a code to remove the number 3 from the list [1, 2, 3, 4, 5]\n",
        "list3=[1,2,3,4,5]\n",
        "list3.remove(3)\n",
        "print(list3)"
      ],
      "metadata": {
        "colab": {
          "base_uri": "https://localhost:8080/"
        },
        "id": "vxQKCDrkwLcf",
        "outputId": "8163e757-77c3-4d1c-bb52-587fcbaa8350"
      },
      "execution_count": 5,
      "outputs": [
        {
          "output_type": "stream",
          "name": "stdout",
          "text": [
            "[1, 2, 4, 5]\n"
          ]
        }
      ]
    },
    {
      "cell_type": "code",
      "source": [
        "# 9. Write a code to access the second element in the list ['a', 'b', 'c', 'd']\n",
        "lst=['a', 'b', 'c', 'd']\n",
        "lst[1]"
      ],
      "metadata": {
        "colab": {
          "base_uri": "https://localhost:8080/",
          "height": 35
        },
        "id": "gECl5GiFwiLl",
        "outputId": "d612dc4b-36bb-4896-8a58-1960fab61bf7"
      },
      "execution_count": 6,
      "outputs": [
        {
          "output_type": "execute_result",
          "data": {
            "text/plain": [
              "'b'"
            ],
            "application/vnd.google.colaboratory.intrinsic+json": {
              "type": "string"
            }
          },
          "metadata": {},
          "execution_count": 6
        }
      ]
    },
    {
      "cell_type": "code",
      "source": [
        "# 10. Write a code to reverse the list [10, 20, 30, 40, 50]\n",
        "lst1=[10,20,30,40,50]\n",
        "lst1[::-1]"
      ],
      "metadata": {
        "colab": {
          "base_uri": "https://localhost:8080/"
        },
        "id": "tQNiVKHNw7h4",
        "outputId": "66ffd6f2-0940-4e15-9e9e-f4d66c205773"
      },
      "execution_count": 7,
      "outputs": [
        {
          "output_type": "execute_result",
          "data": {
            "text/plain": [
              "[50, 40, 30, 20, 10]"
            ]
          },
          "metadata": {},
          "execution_count": 7
        }
      ]
    },
    {
      "cell_type": "code",
      "source": [
        "# 11.  Write a code to create a tuple with the elements 100, 200, 300 and print it\n",
        "tup=(100,200,300)\n",
        "print(tup)"
      ],
      "metadata": {
        "colab": {
          "base_uri": "https://localhost:8080/"
        },
        "id": "6aesmPbpxFxI",
        "outputId": "19b251fe-c060-40b4-deb0-6a457e904181"
      },
      "execution_count": 8,
      "outputs": [
        {
          "output_type": "stream",
          "name": "stdout",
          "text": [
            "(100, 200, 300)\n"
          ]
        }
      ]
    },
    {
      "cell_type": "code",
      "source": [
        "# 12. Write a code to access the second-to-last element of the tuple ('red', 'green', 'blue', 'yellow')\n",
        "tup1=('red', 'green', 'blue', 'yellow')\n",
        "print(\"the second last value in the tuple is:\",tup1[-2])"
      ],
      "metadata": {
        "colab": {
          "base_uri": "https://localhost:8080/"
        },
        "id": "8P2O-3dcxXIw",
        "outputId": "03d3039b-79e7-457a-9114-c6bf645d830d"
      },
      "execution_count": 15,
      "outputs": [
        {
          "output_type": "stream",
          "name": "stdout",
          "text": [
            "the second last value in the tuple is: blue\n"
          ]
        }
      ]
    },
    {
      "cell_type": "code",
      "source": [
        "# 13. Write a code to find the minimum number in the tuple (10, 20, 5, 15)\n",
        "tup2=(10, 20, 5, 15)\n",
        "minimum=(min(tup2))\n",
        "print(\"the minimum value in the tuple is:\",minimum)"
      ],
      "metadata": {
        "colab": {
          "base_uri": "https://localhost:8080/"
        },
        "id": "9SL_hVIhxjMc",
        "outputId": "50a6c056-4617-4da0-9df8-cc8efc8fb906"
      },
      "execution_count": 14,
      "outputs": [
        {
          "output_type": "stream",
          "name": "stdout",
          "text": [
            "the minimum value in the tuple is: 5\n"
          ]
        }
      ]
    },
    {
      "cell_type": "code",
      "source": [
        "# 14. Write a code to find the index of the element \"cat\" in the tuple ('dog', 'cat', 'rabbit')\n",
        "tup3=('dog', 'cat', 'rabbit')\n",
        "print(\"the index of 'cat' in the tuple is:\",tup3.index('cat'))"
      ],
      "metadata": {
        "colab": {
          "base_uri": "https://localhost:8080/"
        },
        "id": "nM638xAjxvjl",
        "outputId": "f6009b89-8819-47cf-fceb-b4d774ef2f0b"
      },
      "execution_count": 13,
      "outputs": [
        {
          "output_type": "stream",
          "name": "stdout",
          "text": [
            "the index of 'cat' in the tuple is: 1\n"
          ]
        }
      ]
    },
    {
      "cell_type": "code",
      "source": [
        "# 15. Write a code to create a tuple containing three different fruits and check if \"kiwi\" is in it\n",
        "fruit=('apple','mango','kiwi','banana','chickoo')\n",
        "'kiwi' in fruit"
      ],
      "metadata": {
        "colab": {
          "base_uri": "https://localhost:8080/"
        },
        "id": "Y1j3XKNByL3-",
        "outputId": "17856a80-6ae5-479e-f44e-ad5ee9d81efd"
      },
      "execution_count": 16,
      "outputs": [
        {
          "output_type": "execute_result",
          "data": {
            "text/plain": [
              "True"
            ]
          },
          "metadata": {},
          "execution_count": 16
        }
      ]
    },
    {
      "cell_type": "code",
      "source": [
        "# 16.  Write a code to create a set with the elements 'a', 'b', 'c' and print it\n",
        "set1={'a','b','c'}\n",
        "print(set1)"
      ],
      "metadata": {
        "colab": {
          "base_uri": "https://localhost:8080/"
        },
        "id": "1BigP2P0zdR0",
        "outputId": "b360186a-229e-4d13-cc2e-f14ccb4ffb49"
      },
      "execution_count": 17,
      "outputs": [
        {
          "output_type": "stream",
          "name": "stdout",
          "text": [
            "{'a', 'b', 'c'}\n"
          ]
        }
      ]
    },
    {
      "cell_type": "code",
      "source": [
        "# 17.  Write a code to clear all elements from the set {1, 2, 3, 4, 5}\n",
        "set2={1, 2, 3, 4, 5}\n",
        "set2.clear()\n",
        "print(set2)"
      ],
      "metadata": {
        "colab": {
          "base_uri": "https://localhost:8080/"
        },
        "id": "2medwQJL0Us2",
        "outputId": "70079141-23d4-4d3e-a6d1-9b438bb18b1e"
      },
      "execution_count": 20,
      "outputs": [
        {
          "output_type": "stream",
          "name": "stdout",
          "text": [
            "set()\n"
          ]
        }
      ]
    },
    {
      "cell_type": "code",
      "source": [
        "# 18.  Write a code to remove the element 4 from the set {1, 2, 3, 4}\n",
        "set3={1, 2, 3, 4}\n",
        "set3.remove(4)\n",
        "print(set3)"
      ],
      "metadata": {
        "colab": {
          "base_uri": "https://localhost:8080/"
        },
        "id": "ahJsR2Md0fB4",
        "outputId": "10fa771e-fedb-421a-abe1-91fa57c84920"
      },
      "execution_count": 22,
      "outputs": [
        {
          "output_type": "stream",
          "name": "stdout",
          "text": [
            "{1, 2, 3}\n"
          ]
        }
      ]
    },
    {
      "cell_type": "code",
      "source": [
        "# 19. Write a code to find the union of two sets {1, 2, 3} and {3, 4, 5}\n",
        "st1={1,2,3}\n",
        "st2={3,4,5}\n",
        "print(\"union of set1 and set2 is = \",st1 | st2)"
      ],
      "metadata": {
        "colab": {
          "base_uri": "https://localhost:8080/"
        },
        "id": "lF_M1LWd02AQ",
        "outputId": "7ce7b1f9-b0a8-444e-9362-dd37cd8a712b"
      },
      "execution_count": 24,
      "outputs": [
        {
          "output_type": "stream",
          "name": "stdout",
          "text": [
            "union of set1 and set2 is =  {1, 2, 3, 4, 5}\n"
          ]
        }
      ]
    },
    {
      "cell_type": "code",
      "source": [
        "# 20.  Write a code to find the intersection of two sets {1, 2, 3} and {2, 3, 4}\n",
        "st3={1, 2,3}\n",
        "st4={2,3,4}\n",
        "print(\"Intersection of set1 and set2 is =\", st3 & st4)"
      ],
      "metadata": {
        "colab": {
          "base_uri": "https://localhost:8080/"
        },
        "id": "ZfL8c_2e1H-G",
        "outputId": "139c6334-16e2-4d77-8e2d-55b2607b15b2"
      },
      "execution_count": 25,
      "outputs": [
        {
          "output_type": "stream",
          "name": "stdout",
          "text": [
            "Intersection of set1 and set2 is = {2, 3}\n"
          ]
        }
      ]
    },
    {
      "cell_type": "code",
      "source": [
        "# 21. Write a code to create a dictionary with the keys \"name\", \"age\", and \"city\", and print it\n",
        "dic={\"name\":\"Ashutosh\",\n",
        "\"age\":22,\n",
        "\"city\":\"banglore\"}\n",
        "print(dic)"
      ],
      "metadata": {
        "colab": {
          "base_uri": "https://localhost:8080/"
        },
        "id": "wLkTAztB1lMI",
        "outputId": "bc0af987-56c9-4dae-de29-91d4cf86093c"
      },
      "execution_count": 27,
      "outputs": [
        {
          "output_type": "stream",
          "name": "stdout",
          "text": [
            "{'name': 'Ashutosh', 'age': 22, 'city': 'banglore'}\n"
          ]
        }
      ]
    },
    {
      "cell_type": "code",
      "source": [
        "# 22. Write a code to add a new key-value pair \"country\": \"USA\" to the dictionary {'name': 'John', 'age': 25}\n",
        "dic1={'name': 'John', 'age': 25}\n",
        "dic1[\"country\"]='USA'\n",
        "print(dic1)"
      ],
      "metadata": {
        "colab": {
          "base_uri": "https://localhost:8080/"
        },
        "id": "OFQr-jPD2Fck",
        "outputId": "2bc5d50f-2e93-4576-b199-c9cd175072f9"
      },
      "execution_count": 29,
      "outputs": [
        {
          "output_type": "stream",
          "name": "stdout",
          "text": [
            "{'name': 'John', 'age': 25, 'country': 'USA'}\n"
          ]
        }
      ]
    },
    {
      "cell_type": "code",
      "source": [
        "# 23. Write a code to access the value associated with the key \"name\" in the dictionary {'name': 'Alice', 'age': 30}\n",
        "dic2={'name': 'Alice', 'age': 30}\n",
        "dic2['name']"
      ],
      "metadata": {
        "colab": {
          "base_uri": "https://localhost:8080/",
          "height": 35
        },
        "id": "YBFvKFd925yV",
        "outputId": "677a7089-979d-46ee-83eb-363cab24519d"
      },
      "execution_count": 30,
      "outputs": [
        {
          "output_type": "execute_result",
          "data": {
            "text/plain": [
              "'Alice'"
            ],
            "application/vnd.google.colaboratory.intrinsic+json": {
              "type": "string"
            }
          },
          "metadata": {},
          "execution_count": 30
        }
      ]
    },
    {
      "cell_type": "code",
      "source": [
        "# 24. Write a code to remove the key \"age\" from the dictionary {'name': 'Bob', 'age': 22, 'city': 'New York'}\n",
        "dic3={'name': 'Bob', 'age': 22, 'city': 'New York'}\n",
        "dic3.pop('age')\n",
        "dic3"
      ],
      "metadata": {
        "colab": {
          "base_uri": "https://localhost:8080/"
        },
        "id": "-FGaDFLk3MQF",
        "outputId": "c3c84a25-d48a-48d7-c363-43db14a1292e"
      },
      "execution_count": 33,
      "outputs": [
        {
          "output_type": "execute_result",
          "data": {
            "text/plain": [
              "{'name': 'Bob', 'city': 'New York'}"
            ]
          },
          "metadata": {},
          "execution_count": 33
        }
      ]
    },
    {
      "cell_type": "code",
      "source": [
        "# 25. Write a code to check if the key \"city\" exists in the dictionary {'name': 'Alice', 'city': 'Paris'}\n",
        "dic4={'name': 'Alice', 'city': 'Paris'}\n",
        "print(\"is 'city' in the dic4?: \", 'city' in dic4)\n"
      ],
      "metadata": {
        "colab": {
          "base_uri": "https://localhost:8080/"
        },
        "id": "H8ovEODx3Z8O",
        "outputId": "5f23e91b-62ad-439e-a3fb-62dc5f3cba15"
      },
      "execution_count": 35,
      "outputs": [
        {
          "output_type": "stream",
          "name": "stdout",
          "text": [
            "is 'city' in the dic4?:  True\n"
          ]
        }
      ]
    },
    {
      "cell_type": "code",
      "source": [
        "# 26. Write a code to create a list, a tuple, and a dictionary, and print them all\n",
        "list_=['L','I','S','T',1,2.4]\n",
        "tuple_=('t','u','p','l','e',1,3)\n",
        "dictionary={\"city\":\"pune\",\"park\":29,\"zoo\":5}\n",
        "print(\"list:\",list_)\n",
        "print(\"Tuple:\",tuple_)\n",
        "print(\"Dictionary:\",dictionary)"
      ],
      "metadata": {
        "colab": {
          "base_uri": "https://localhost:8080/"
        },
        "id": "koc_LLyV4XH7",
        "outputId": "2fd1e88f-b2fc-4f80-e34f-2ed711920776"
      },
      "execution_count": 37,
      "outputs": [
        {
          "output_type": "stream",
          "name": "stdout",
          "text": [
            "list: ['L', 'I', 'S', 'T', 1, 2.4]\n",
            "Tuple: ('t', 'u', 'p', 'l', 'e', 1, 3)\n",
            "Dictionary: {'city': 'pune', 'park': 29, 'zoo': 5}\n"
          ]
        }
      ]
    },
    {
      "cell_type": "code",
      "source": [
        "# 27.  Write a code to create a list of 5 random numbers between 1 and 100, sort it in ascending order, and print the result\n",
        "\n",
        "import random\n",
        "random_number=[random.randint(1,100) for _ in range(5)]\n",
        "random_number.sort()\n",
        "print(random_number)"
      ],
      "metadata": {
        "colab": {
          "base_uri": "https://localhost:8080/"
        },
        "id": "_GvOaXD66nbJ",
        "outputId": "e09d12e1-7a18-4e12-e9d2-f0976dfd0ca7"
      },
      "execution_count": 44,
      "outputs": [
        {
          "output_type": "stream",
          "name": "stdout",
          "text": [
            "[7, 19, 34, 45, 59]\n"
          ]
        }
      ]
    },
    {
      "cell_type": "code",
      "source": [
        "# 28. Write a code to create a list with strings and print the element at the third index\n",
        "_list=[\"apple\",\"list\",\"check\",\"stumps\",\"test\"]\n",
        "print(_list[2])"
      ],
      "metadata": {
        "colab": {
          "base_uri": "https://localhost:8080/"
        },
        "id": "rohn1p4L70aT",
        "outputId": "4f9e73a4-aa9e-4dbf-b825-ff4e3b659586"
      },
      "execution_count": 45,
      "outputs": [
        {
          "output_type": "stream",
          "name": "stdout",
          "text": [
            "check\n"
          ]
        }
      ]
    },
    {
      "cell_type": "code",
      "source": [
        "# 29.  Write a code to combine two dictionaries into one and print the result\n",
        "dict1={\"key\":\"lock\",\"tap\":\"water\"}\n",
        "dict2={\"store\":\"grocery\",\"mobile\":\"games\"}\n",
        "dict1.update(dict2)\n",
        "print(\"Dictionary after combining two dictionary : \",dict1)"
      ],
      "metadata": {
        "colab": {
          "base_uri": "https://localhost:8080/"
        },
        "id": "h5iwI2WA8s0h",
        "outputId": "29eac6d2-5113-40db-b5fe-cb3f8c24f4ab"
      },
      "execution_count": 48,
      "outputs": [
        {
          "output_type": "stream",
          "name": "stdout",
          "text": [
            "Dictionary after combining two dictionary :  {'key': 'lock', 'tap': 'water', 'store': 'grocery', 'mobile': 'games'}\n"
          ]
        }
      ]
    },
    {
      "cell_type": "code",
      "source": [
        "# 30. Write a code to convert a list of strings into a set.\n",
        "List=[\"air\",\"sand\",\"soil\",\"mineral\"]\n",
        "new_set= set(List)\n",
        "print(new_set)"
      ],
      "metadata": {
        "colab": {
          "base_uri": "https://localhost:8080/"
        },
        "id": "4MVooMA89oOM",
        "outputId": "e92615d9-a702-4856-a937-6d2cfed9d234"
      },
      "execution_count": 50,
      "outputs": [
        {
          "output_type": "stream",
          "name": "stdout",
          "text": [
            "{'air', 'soil', 'sand', 'mineral'}\n"
          ]
        }
      ]
    },
    {
      "cell_type": "code",
      "source": [],
      "metadata": {
        "id": "NuN27LR--N0-"
      },
      "execution_count": null,
      "outputs": []
    }
  ]
}